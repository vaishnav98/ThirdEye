{
 "cells": [
  {
   "cell_type": "markdown",
   "metadata": {},
   "source": [
    "![title](img/python.png)"
   ]
  },
  {
   "cell_type": "markdown",
   "metadata": {},
   "source": [
    "# PYTHON- INTRODUCTION\n",
    "Python is an interpreted, object-oriented, high-level programming language with dynamic semantics. ... Python's simple, easy to learn syntax emphasizes readability and therefore reduces the cost of program maintenance.\n"
   ]
  },
  {
   "cell_type": "markdown",
   "metadata": {},
   "source": [
    "These are some sample programs to learn basics of python"
   ]
  },
  {
   "cell_type": "code",
   "execution_count": 1,
   "metadata": {},
   "outputs": [
    {
     "name": "stdout",
     "output_type": "stream",
     "text": [
      "Hello world\n"
     ]
    }
   ],
   "source": [
    "print \"Hello world\""
   ]
  },
  {
   "cell_type": "code",
   "execution_count": 7,
   "metadata": {
    "scrolled": true
   },
   "outputs": [
    {
     "name": "stdout",
     "output_type": "stream",
     "text": [
      "10\n"
     ]
    }
   ],
   "source": [
    "a=10\n",
    "print a"
   ]
  },
  {
   "cell_type": "code",
   "execution_count": 8,
   "metadata": {},
   "outputs": [
    {
     "name": "stdout",
     "output_type": "stream",
     "text": [
      "Enter any value4\n",
      "Enter any other value3\n"
     ]
    }
   ],
   "source": [
    "a=input(\"Enter any value\")\n",
    "b=input(\"Enter any other value\")"
   ]
  },
  {
   "cell_type": "code",
   "execution_count": 9,
   "metadata": {},
   "outputs": [],
   "source": [
    "s=(float(a+b))/2"
   ]
  },
  {
   "cell_type": "code",
   "execution_count": 10,
   "metadata": {},
   "outputs": [
    {
     "name": "stdout",
     "output_type": "stream",
     "text": [
      "Average is 3.5\n"
     ]
    }
   ],
   "source": [
    "print \"Average is\", s"
   ]
  },
  {
   "cell_type": "markdown",
   "metadata": {},
   "source": [
    "# if , elif,else\n",
    "Decision making is required when we want to execute a code only if a certain condition is satisfied.\n",
    "\n",
    "The if…elif…else statement is used in Python for decision making.\n",
    "\n"
   ]
  },
  {
   "cell_type": "code",
   "execution_count": 13,
   "metadata": {},
   "outputs": [
    {
     "name": "stdout",
     "output_type": "stream",
     "text": [
      "Enter any number5\n"
     ]
    }
   ],
   "source": [
    "x=input(\"Enter any number\")"
   ]
  },
  {
   "cell_type": "code",
   "execution_count": 14,
   "metadata": {},
   "outputs": [
    {
     "name": "stdout",
     "output_type": "stream",
     "text": [
      "number is odd\n"
     ]
    }
   ],
   "source": [
    "if (x%2==0):\n",
    "    print \" number is even\"\n",
    "else:\n",
    "    print \"number is odd\""
   ]
  },
  {
   "cell_type": "markdown",
   "metadata": {},
   "source": [
    "# loop\n",
    "In computer programming, a loop is a sequence of instruction s that is continually repeated until a certain condition is reached.\n",
    "Two types of loops are for loop and while loop."
   ]
  },
  {
   "cell_type": "markdown",
   "metadata": {},
   "source": [
    "# while loop\n",
    "While loops repeat as long as a certain boolean condition is met. For example:"
   ]
  },
  {
   "cell_type": "code",
   "execution_count": 17,
   "metadata": {},
   "outputs": [
    {
     "name": "stdout",
     "output_type": "stream",
     "text": [
      "1\n",
      "2\n",
      "3\n",
      "4\n",
      "5\n",
      "6\n",
      "7\n",
      "8\n",
      "9\n",
      "10\n"
     ]
    }
   ],
   "source": [
    "k=1\n",
    "while k<=10:\n",
    "    print k\n",
    "    k=k+1"
   ]
  },
  {
   "cell_type": "markdown",
   "metadata": {},
   "source": [
    "# for loop\n",
    "For loops iterate over a given sequence. For loops can iterate over a sequence of numbers using the \"range\" and \"xrange\" functions. The difference between range and xrange is that the range function returns a new list with numbers of that specified range, whereas xrange returns an iterator, which is more efficient. (Python 3 uses the range function, which acts like xrange). Note that the range function is zero based.\n",
    "Here is an example:"
   ]
  },
  {
   "cell_type": "code",
   "execution_count": 3,
   "metadata": {},
   "outputs": [
    {
     "name": "stdout",
     "output_type": "stream",
     "text": [
      "Enter any number5\n",
      "sum is 15\n"
     ]
    }
   ],
   "source": [
    "s=0\n",
    "n=input(\"Enter any number\")\n",
    "for k in range(1,n+1):\n",
    "    s=s+k\n",
    "print 'sum is',s"
   ]
  },
  {
   "cell_type": "markdown",
   "metadata": {},
   "source": [
    "# Time function in python.\n",
    "There is a popular time module available in Python which provides functions for working with times, and for converting between representations. The function time.time() returns the current system time in ticks since 12:00am, January 1, 1970(epoch)."
   ]
  },
  {
   "cell_type": "markdown",
   "metadata": {},
   "source": [
    "These are the commands to import the time module functions in python"
   ]
  },
  {
   "cell_type": "code",
   "execution_count": 1,
   "metadata": {},
   "outputs": [],
   "source": [
    "import time"
   ]
  },
  {
   "cell_type": "code",
   "execution_count": 2,
   "metadata": {},
   "outputs": [],
   "source": [
    "import datetime\n",
    "from datetime import date"
   ]
  },
  {
   "cell_type": "code",
   "execution_count": 3,
   "metadata": {},
   "outputs": [
    {
     "name": "stdout",
     "output_type": "stream",
     "text": [
      "2018-06-13\n"
     ]
    }
   ],
   "source": [
    "d = datetime.date(2018,6,13)\n",
    "print d"
   ]
  },
  {
   "cell_type": "markdown",
   "metadata": {},
   "source": [
    "datetime.date.today function is used to find today's date "
   ]
  },
  {
   "cell_type": "code",
   "execution_count": 4,
   "metadata": {
    "scrolled": true
   },
   "outputs": [
    {
     "name": "stdout",
     "output_type": "stream",
     "text": [
      "2018-11-17\n"
     ]
    }
   ],
   "source": [
    "tday = datetime.date.today()\n",
    "print tday"
   ]
  },
  {
   "cell_type": "markdown",
   "metadata": {},
   "source": [
    "# time.sleep() function\n",
    "Its syntax is time.sleep(seconds)\n",
    "\n",
    "It halts the execution of the current thread for the specified number of seconds. You can pass a floating point value as the argument to register a more precise sleep time.\n",
    "\n",
    "With the sleep() function, our program/script can pause for a given number of seconds. It is a useful function in cases like when I need to wait for a file to finish closing or let a database commit to happen.\n",
    "\n",
    "Here is an example"
   ]
  },
  {
   "cell_type": "code",
   "execution_count": 5,
   "metadata": {},
   "outputs": [
    {
     "name": "stdout",
     "output_type": "stream",
     "text": [
      "Print this every three seconds\n",
      "Print this every three seconds\n",
      "Print this every three seconds\n",
      "Print this every three seconds\n",
      "Print this every three seconds\n"
     ]
    }
   ],
   "source": [
    "for i in range(5):\n",
    "    print \"Print this every three seconds\"\n",
    "    time.sleep(3)"
   ]
  },
  {
   "cell_type": "markdown",
   "metadata": {},
   "source": [
    "Given below is a program to print a sine wave using the time and math function"
   ]
  },
  {
   "cell_type": "code",
   "execution_count": 12,
   "metadata": {},
   "outputs": [
    {
     "name": "stdout",
     "output_type": "stream",
     "text": [
      "=====================\n",
      "==========================\n",
      "================================\n",
      "====================================\n",
      "=======================================\n",
      "========================================\n",
      "========================================\n",
      "======================================\n",
      "==================================\n",
      "=============================\n",
      "=======================\n",
      "==================\n",
      "=============\n",
      "========\n",
      "====\n",
      "==\n",
      "==\n",
      "===\n",
      "======\n",
      "==========\n",
      "================\n",
      "=====================\n",
      "===========================\n",
      "================================\n",
      "====================================\n",
      "=======================================\n",
      "========================================\n",
      "========================================\n",
      "======================================\n",
      "==================================\n",
      "=============================\n",
      "=======================\n",
      "==================\n",
      "============\n",
      "========\n",
      "====\n",
      "==\n",
      "==\n",
      "===\n",
      "======\n",
      "===========\n",
      "================\n",
      "=====================\n",
      "===========================\n",
      "================================\n",
      "=====================================\n",
      "=======================================\n",
      "========================================\n",
      "========================================\n",
      "=====================================\n",
      "==================================\n",
      "============================\n",
      "=======================\n",
      "==================\n",
      "============\n",
      "=======\n",
      "====\n",
      "==\n",
      "==\n",
      "===\n",
      "======\n",
      "===========\n",
      "=================\n",
      "======================\n",
      "===========================\n",
      "=================================\n",
      "=====================================\n",
      "=======================================\n",
      "========================================\n",
      "========================================\n",
      "=====================================\n",
      "=================================\n",
      "============================\n",
      "======================\n",
      "=================\n",
      "============\n",
      "=======\n",
      "====\n",
      "==\n",
      "==\n",
      "===\n",
      "=======\n",
      "===========\n",
      "=================\n",
      "======================\n",
      "============================\n",
      "=================================\n",
      "=====================================\n",
      "========================================\n",
      "========================================\n",
      "========================================\n",
      "=====================================\n",
      "=================================\n",
      "============================\n",
      "======================\n",
      "=================\n",
      "===========\n",
      "=======\n",
      "===\n",
      "==\n",
      "==\n",
      "====\n",
      "=======\n",
      "============\n",
      "=================\n",
      "Hello world\n"
     ]
    }
   ],
   "source": [
    "import math\n",
    "import time\n",
    "\n",
    "numCycle =5\n",
    "pi = math.pi\n",
    "\n",
    "def sin(x):\n",
    "    return math.sin(x)\n",
    "\n",
    "x=0\n",
    "\n",
    "while x < (numCycle*2*pi):\n",
    "    bar = int(20*sin(x))\n",
    "    x+=0.3\n",
    "    print((21+bar)*'=')\n",
    "    time.sleep(0.04)\n",
    "\n",
    "print(\"Hello world\")\n",
    "    \n",
    "    "
   ]
  }
 ],
 "metadata": {
  "kernelspec": {
   "display_name": "Python 2",
   "language": "python",
   "name": "python2"
  },
  "language_info": {
   "codemirror_mode": {
    "name": "ipython",
    "version": 2
   },
   "file_extension": ".py",
   "mimetype": "text/x-python",
   "name": "python",
   "nbconvert_exporter": "python",
   "pygments_lexer": "ipython2",
   "version": "2.7.14"
  }
 },
 "nbformat": 4,
 "nbformat_minor": 2
}
