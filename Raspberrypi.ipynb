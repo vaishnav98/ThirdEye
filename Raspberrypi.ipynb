{
 "cells": [
  {
   "cell_type": "markdown",
   "metadata": {},
   "source": [
    "![title](img/download.png)"
   ]
  },
  {
   "cell_type": "markdown",
   "metadata": {},
   "source": [
    "# Raspberry Pi GPIO\n",
    "\n",
    "General Purpose Input/Output (GPIO) is a generic pin on a chip whose behavior can be controlled by the user at run time.\n",
    "\n",
    "GPIO pins can be used as both digital outputs and digital inputs.\n",
    "\n",
    "• Output: turn a particular pin HIGH or LOW. – Setting it HIGH sets it to 3.3V; setting it LOW sets it to 0V.\n",
    "\n",
    "• Input: detect the pin being at HIGH or LOW – we can connect switches and simple sensors to a pin and check whether it is open or closed (that is,activated or not)"
   ]
  },
  {
   "cell_type": "markdown",
   "metadata": {},
   "source": [
    "# Importing the required libraries"
   ]
  },
  {
   "cell_type": "code",
   "execution_count": 1,
   "metadata": {},
   "outputs": [
    {
     "ename": "ImportError",
     "evalue": "No module named RPi.GPIO",
     "output_type": "error",
     "traceback": [
      "\u001b[1;31m---------------------------------------------------------------------------\u001b[0m",
      "\u001b[1;31mImportError\u001b[0m                               Traceback (most recent call last)",
      "\u001b[1;32m<ipython-input-1-75e0958f7831>\u001b[0m in \u001b[0;36m<module>\u001b[1;34m()\u001b[0m\n\u001b[1;32m----> 1\u001b[1;33m \u001b[1;32mimport\u001b[0m \u001b[0mRPi\u001b[0m\u001b[1;33m.\u001b[0m\u001b[0mGPIO\u001b[0m \u001b[1;32mas\u001b[0m \u001b[0mGPIO\u001b[0m\u001b[1;33m\u001b[0m\u001b[0m\n\u001b[0m",
      "\u001b[1;31mImportError\u001b[0m: No module named RPi.GPIO"
     ]
    }
   ],
   "source": [
    "import RPi.GPIO as GPI0"
   ]
  },
  {
   "cell_type": "markdown",
   "metadata": {},
   "source": [
    "That statement “includes” the RPi.GPIO module, and goes a step further by providing a local name – GPIO which we’ll call to reference the module from here on.\n",
    "\n",
    "# Pin Numbering Declaration\n",
    "\n",
    "After you’ve included the RPi.GPIO module, the next step is to determine which of the two pin-numbering schemes you want to use:"
   ]
  },
  {
   "cell_type": "markdown",
   "metadata": {},
   "source": [
    "![title](img/KBD5v.jpg)"
   ]
  },
  {
   "cell_type": "code",
   "execution_count": 9,
   "metadata": {
    "collapsed": true
   },
   "outputs": [
    {
     "ename": "NameError",
     "evalue": "name 'GPIO' is not defined",
     "output_type": "error",
     "traceback": [
      "\u001b[1;31m---------------------------------------------------------------------------\u001b[0m",
      "\u001b[1;31mNameError\u001b[0m                                 Traceback (most recent call last)",
      "\u001b[1;32m<ipython-input-9-84093530a9f4>\u001b[0m in \u001b[0;36m<module>\u001b[1;34m()\u001b[0m\n\u001b[1;32m----> 1\u001b[1;33m \u001b[0mGPIO\u001b[0m\u001b[1;33m.\u001b[0m\u001b[0msetmode\u001b[0m\u001b[1;33m(\u001b[0m\u001b[0mGPIO\u001b[0m\u001b[1;33m.\u001b[0m\u001b[0mBCM\u001b[0m\u001b[1;33m)\u001b[0m\u001b[1;33m\u001b[0m\u001b[0m\n\u001b[0m\u001b[0;32m      2\u001b[0m \u001b[0mGPIO\u001b[0m\u001b[1;33m.\u001b[0m\u001b[0msetwarnings\u001b[0m\u001b[1;33m(\u001b[0m\u001b[0mFalse\u001b[0m\u001b[1;33m)\u001b[0m\u001b[1;33m\u001b[0m\u001b[0m\n",
      "\u001b[1;31mNameError\u001b[0m: name 'GPIO' is not defined"
     ]
    }
   ],
   "source": [
    "GPIO.setmode(GPIO.BCM)\n",
    "GPIO.setwarnings(False)"
   ]
  },
  {
   "cell_type": "markdown",
   "metadata": {},
   "source": [
    "GPIO.BOARD – Board numbering scheme. The pin numbers follow the pin numbers on header P1.\n",
    "GPIO.BCM – Broadcom chip-specific pin numbers. These pin numbers follow the lower-level numbering system defined by the Raspberry Pi’s Broadcom-chip brain."
   ]
  },
  {
   "cell_type": "markdown",
   "metadata": {},
   "source": [
    "# Setting a PinMode"
   ]
  },
  {
   "cell_type": "code",
   "execution_count": null,
   "metadata": {},
   "outputs": [],
   "source": [
    "GPIO.setup(18, GPIO.OUT)"
   ]
  },
  {
   "cell_type": "markdown",
   "metadata": {},
   "source": [
    "If you’ve used Arduino, you’re probably familiar with the fact that you have to declare a “pin mode” before you can use it as either an input or output. To set a pin mode, use the setup(pin,GPIO.IN/GPIO.OUT) function."
   ]
  },
  {
   "cell_type": "markdown",
   "metadata": {},
   "source": [
    "# Writing a value to an Output Pin\n",
    "To write a pin high or low, use the GPIO.output(pin, GPIO.LOW/GPIO.HIGH) function. Writing a pin to GPIO.HIGH will drive it to 3.3V, and GPIO.LOW will set it to 0V. For the lazy, alternative to GPIO.HIGH and GPIO.LOW, you can use either 1, True, 0 or False to set a pin value.\n",
    "\n",
    "# Writing HIGH to a Pin"
   ]
  },
  {
   "cell_type": "code",
   "execution_count": null,
   "metadata": {},
   "outputs": [],
   "source": [
    "GPIO.output(18, GPIO.HIGH)"
   ]
  },
  {
   "cell_type": "markdown",
   "metadata": {},
   "source": [
    "# Writing LOW to a Pin"
   ]
  },
  {
   "cell_type": "code",
   "execution_count": null,
   "metadata": {},
   "outputs": [],
   "source": [
    "GPIO.output(18, GPIO.LOW)"
   ]
  },
  {
   "cell_type": "markdown",
   "metadata": {},
   "source": [
    "# Blinking an LED"
   ]
  },
  {
   "cell_type": "code",
   "execution_count": null,
   "metadata": {},
   "outputs": [],
   "source": [
    "from time import sleep\n",
    "\n",
    "while True:\n",
    "    GPIO.output(18, GPIO.HIGH)\n",
    "    sleep(1)\n",
    "    GPIO.output(18, GPIO.LOW)\n",
    "    sleep(1)"
   ]
  },
  {
   "cell_type": "markdown",
   "metadata": {},
   "source": [
    "# PWM (“Analog”) Output\n",
    "PWM on the Raspberry Pi is about as limited as can be – one, single pin is capable of it: 18 (i.e. board pin 12).\n",
    "\n",
    "To initialize PWM, use GPIO.PWM(pin, frequency) function. To make the rest of your script-writing easier you can assign that instance to a variable. Then use pwm.start(duty cycle) function to set an initial value."
   ]
  },
  {
   "cell_type": "markdown",
   "metadata": {},
   "source": [
    "![title](img/b.png)"
   ]
  },
  {
   "cell_type": "markdown",
   "metadata": {},
   "source": [
    "Initializing PWM and writing 50 % 1 kHz PWM to pin 18"
   ]
  },
  {
   "cell_type": "code",
   "execution_count": null,
   "metadata": {},
   "outputs": [],
   "source": [
    "pwm = GPIO.PWM(18, 1000)\n",
    "pwm.start(50)"
   ]
  },
  {
   "cell_type": "markdown",
   "metadata": {},
   "source": [
    "# Adjusting the PWM duty\n",
    "To adjust the value of the PWM output, use the pwm.ChangeDutyCycle(duty cycle) function. duty cycle can be any value between 0 (i.e 0%/LOW) and 100 (ie.e 100%/HIGH)."
   ]
  },
  {
   "cell_type": "code",
   "execution_count": null,
   "metadata": {},
   "outputs": [],
   "source": [
    "pwm.ChangeDutyCycle(100)"
   ]
  },
  {
   "cell_type": "markdown",
   "metadata": {},
   "source": [
    "# Fading an LED"
   ]
  },
  {
   "cell_type": "code",
   "execution_count": null,
   "metadata": {},
   "outputs": [],
   "source": [
    "i = 0\n",
    "while True:\n",
    "    pwm.ChangeDutyCycle(i)\n",
    "    if i < 100:\n",
    "        i += 1\n",
    "    else:\n",
    "        i = 0\n",
    "    sleep(0.1)"
   ]
  },
  {
   "cell_type": "markdown",
   "metadata": {},
   "source": [
    "# Stopping the PWM\n",
    "To turn PWM on that pin off, use the pwm.stop() command\n",
    "\n"
   ]
  },
  {
   "cell_type": "code",
   "execution_count": null,
   "metadata": {},
   "outputs": [],
   "source": [
    "pwm.stop()"
   ]
  },
  {
   "cell_type": "markdown",
   "metadata": {},
   "source": [
    "# Digital Input\n",
    "\n",
    "If a pin is configured as an input, you can use the GPIO.input(pin) function to read its value. The input() function will return either a True or False indicating whether the pin is HIGH or LOW\n",
    "\n",
    "# Reading an Input Pin\n"
   ]
  },
  {
   "cell_type": "code",
   "execution_count": null,
   "metadata": {},
   "outputs": [],
   "source": [
    "GPIO.setup(17, GPIO.IN)\n",
    "\n",
    "if GPIO.input(17):\n",
    "    print(\"Pin is HIGH\")\n",
    "else:\n",
    "    print(\"Pin is LOW\")"
   ]
  },
  {
   "cell_type": "markdown",
   "metadata": {},
   "source": [
    "Advanced Input Read Using Event detection and Callback"
   ]
  },
  {
   "cell_type": "code",
   "execution_count": null,
   "metadata": {},
   "outputs": [],
   "source": [
    "def my_callback():\n",
    "    print('Button Pressed')\n",
    "    \n",
    "GPIO.add_event_detect(17, GPIO.FALLING, callback=my_callback)"
   ]
  },
  {
   "cell_type": "markdown",
   "metadata": {},
   "source": [
    "# blinking an LED"
   ]
  },
  {
   "cell_type": "code",
   "execution_count": null,
   "metadata": {},
   "outputs": [],
   "source": [
    "#import required libraries\n",
    "import RPi.GPIO as GPIO\n",
    "import time\n",
    "\n",
    "#defining pin names\n",
    "\n",
    "led1Pin = 18\n",
    "led2Pin = 16\n",
    "\n",
    "#Pin defenitions\n",
    "GPIO.setmode(GPIO.BOARD)\n",
    "\n",
    "GPIO.setup(led1Pin,GPIO.OUT)\n",
    "GPIO.setup(led2Pin,GPIO.OUT)\n",
    "\n",
    "while True:\n",
    "    GPIO.output(led1Pin,GPIO.HIGH)\n",
    "    GPIO.output(led4Pin,GPIO.LOW)\n",
    "    sleep(0.5)\n",
    "    GPIO.output(led1Pin,GPIO.LOW)\n",
    "    GPIO.output(led4Pin,GPIO.LOW)\n",
    "    sleep(0.5)"
   ]
  },
  {
   "cell_type": "markdown",
   "metadata": {},
   "source": [
    "# remote controlled rover using WiFi"
   ]
  },
  {
   "cell_type": "code",
   "execution_count": null,
   "metadata": {},
   "outputs": [],
   "source": [
    "#import required libraries\n",
    "import RPi.GPIO as GPIO\n",
    "import time\n",
    "\n",
    "#defining pin names\n",
    "\n",
    "motor1Pin = 18\n",
    "motor2Pin = 16\n",
    "motor3Pin = 15\n",
    "motor4Pin = 23\n",
    "#Pin defenitions\n",
    "GPIO.setmode(GPIO.BOARD)\n",
    "GPIO.setup(motor1Pin,GPIO.OUT)\n",
    "GPIO.setup(motor2Pin,GPIO.OUT)\n",
    "GPIO.setup(motor3Pin,GPIO.OUT)\n",
    "GPIO.setup(motor4Pin,GPIO.OUT)\n",
    "print \"Enter w to move forward \\n enter s to move back \\n enter d to move right \\n enter a to move right \\n Space TO Stop\\n\\n\"\n",
    "#Loop for direction controll\n",
    "while True:\n",
    "\n",
    "        a=raw_input('Enter Direction : ')\n",
    "\n",
    "\n",
    "        if a=='s' or a=='S' :\n",
    "                GPIO.output(motor1Pin,GPIO.HIGH)\n",
    "                GPIO.output(motor4Pin,GPIO.LOW)\n",
    "                GPIO.output(motor2Pin,GPIO.HIGH)\n",
    "                GPIO.output(motor3Pin,GPIO.LOW)\n",
    "        elif a=='w' or a=='W' :\n",
    "                GPIO.output(motor1Pin,GPIO.LOW)\n",
    "                GPIO.output(motor4Pin,GPIO.HIGH)\n",
    "                GPIO.output(motor2Pin,GPIO.LOW)\n",
    "                GPIO.output(motor3Pin,GPIO.HIGH)\n",
    "        elif a=='d' or a=='D':\n",
    "                GPIO.output(motor1Pin,GPIO.LOW)\n",
    "                GPIO.output(motor4Pin,GPIO.HIGH)\n",
    "                GPIO.output(motor2Pin,GPIO.HIGH)\n",
    "                GPIO.output(motor3Pin,GPIO.LOW)\n",
    "        elif a=='a' or a=='A':\n",
    "                GPIO.output(motor1Pin,GPIO.HIGH)\n",
    "                GPIO.output(motor4Pin,GPIO.LOW)\n",
    "                GPIO.output(motor2Pin,GPIO.LOW)\n",
    "                GPIO.output(motor3Pin,GPIO.HIGH)\n",
    "        else :\n",
    "                GPIO.output(motor1Pin,GPIO.LOW)\n",
    "                GPIO.output(motor4Pin,GPIO.LOW)\n",
    "                GPIO.output(motor2Pin,GPIO.LOW)\n",
    "                GPIO.output(motor3Pin,GPIO.LOW)\n"
   ]
  },
  {
   "cell_type": "markdown",
   "metadata": {},
   "source": [
    "# Garbage Collecting\n",
    "\n",
    "Once your script has run its course, be kind to the next process that might use your GPIOs by cleaning up after yourself. Use the GPIO.cleanup() command at the end of your script to release any resources your script may be using.\n",
    "\n",
    "# Cleaning Up"
   ]
  },
  {
   "cell_type": "code",
   "execution_count": null,
   "metadata": {},
   "outputs": [],
   "source": [
    "GPIO.cleanup()"
   ]
  }
 ],
 "metadata": {
  "kernelspec": {
   "display_name": "Python 2",
   "language": "python",
   "name": "python2"
  },
  "language_info": {
   "codemirror_mode": {
    "name": "ipython",
    "version": 2
   },
   "file_extension": ".py",
   "mimetype": "text/x-python",
   "name": "python",
   "nbconvert_exporter": "python",
   "pygments_lexer": "ipython2",
   "version": "2.7.14"
  }
 },
 "nbformat": 4,
 "nbformat_minor": 2
}
